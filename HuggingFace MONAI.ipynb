{
 "cells": [
  {
   "cell_type": "code",
   "execution_count": null,
   "id": "a4e7f5fd",
   "metadata": {},
   "outputs": [],
   "source": [
    "# MONAI Inference on DICOM and NRRD Images Using SimpleITK\n",
    "\"\"\"\n",
    "This notebook demonstrates how to perform inference on 3D medical images using the MONAI framework.\n",
    "It includes:\n",
    "- Loading NRRD and DICOM data using SimpleITK\n",
    "- Applying MONAI transforms for preprocessing\n",
    "- Running a basic 3D UNet model (untrained)\n",
    "- Visualizing input and output mid-slices\n",
    "\n",
    "Note: The UNet model here is not trained, so results are not meaningful.\n",
    "Replace with a trained model for actual segmentation use.\n",
    "\"\"\"\n",
    "\n",
    "import os\n",
    "import torch\n",
    "import numpy as np\n",
    "import matplotlib.pyplot as plt\n",
    "import SimpleITK as sitk\n",
    "from monai.transforms import Compose, AddChannel, ScaleIntensity, Resize, ToTensor\n",
    "from monai.data import Dataset, DataLoader\n",
    "from monai.networks.nets import UNet"
   ]
  },
  {
   "cell_type": "code",
   "execution_count": null,
   "id": "91de7123",
   "metadata": {},
   "outputs": [],
   "source": [
    "# Paths to your input files\n",
    "nrrd_file_path = \"your_data/image3d.nrrd\"  # Replace with your actual NRRD file path\n",
    "dicom_folder_path = \"your_data/dicom_series/\"  # Replace with your DICOM folder path"
   ]
  },
  {
   "cell_type": "code",
   "execution_count": null,
   "id": "2cc6d273",
   "metadata": {},
   "outputs": [],
   "source": [
    "# Load NRRD and DICOM using SimpleITK\n",
    "def load_nrrd(path):\n",
    "    \"\"\"Load and normalize a NRRD file as a 3D NumPy array.\"\"\"\n",
    "    image = sitk.ReadImage(path)\n",
    "    array = sitk.GetArrayFromImage(image)\n",
    "    array = array.astype(np.float32)\n",
    "    return (array - np.min(array)) / (np.max(array) - np.min(array))\n",
    "\n",
    "def load_dicom(folder):\n",
    "    \"\"\"Load and normalize a DICOM series folder as a 3D NumPy array.\"\"\"\n",
    "    reader = sitk.ImageSeriesReader()\n",
    "    series_files = reader.GetGDCMSeriesFileNames(folder)\n",
    "    reader.SetFileNames(series_files)\n",
    "    image = reader.Execute()\n",
    "    array = sitk.GetArrayFromImage(image)\n",
    "    array = array.astype(np.float32)\n",
    "    return (array - np.min(array)) / (np.max(array) - np.min(array))"
   ]
  },
  {
   "cell_type": "code",
   "execution_count": null,
   "id": "ef21cde5",
   "metadata": {},
   "outputs": [],
   "source": [
    "# Load the data\n",
    "image_nrrd = load_nrrd(nrrd_file_path)\n",
    "image_dicom = load_dicom(dicom_folder_path)"
   ]
  },
  {
   "cell_type": "code",
   "execution_count": null,
   "id": "63c0dd6e",
   "metadata": {},
   "outputs": [],
   "source": [
    "# Create MONAI transforms\n",
    "trans_3d = Compose([\n",
    "    AddChannel(),                # (D, H, W) -> (1, D, H, W)\n",
    "    ScaleIntensity(),           # Normalize intensities to [0, 1]\n",
    "    Resize((128, 128, 128)),    # Resize to a shape compatible with UNet\n",
    "    ToTensor()                  # Convert to PyTorch tensor\n",
    "])\n",
    "\n",
    "# Wrap in dicts and use MONAI Dataset\n",
    "nrrd_dict = [{\"image\": image_nrrd}]\n",
    "dicom_dict = [{\"image\": image_dicom}]\n",
    "\n",
    "dataset_nrrd = Dataset(data=nrrd_dict, transform=trans_3d)\n",
    "dataset_dicom = Dataset(data=dicom_dict, transform=trans_3d)\n",
    "\n",
    "tensor_nrrd = next(iter(DataLoader(dataset_nrrd)))['image']  # Shape: (1, 1, 128, 128, 128)\n",
    "tensor_dicom = next(iter(DataLoader(dataset_dicom)))['image']"
   ]
  },
  {
   "cell_type": "code",
   "execution_count": null,
   "id": "3e3790f1",
   "metadata": {},
   "outputs": [],
   "source": [
    "# Download and load pretrained model from Hugging Face\n",
    "from huggingface_hub import hf_hub_download\n",
    "\n",
    "# Download the model checkpoint\n",
    "model_ckpt_path = hf_hub_download(repo_id=\"wdika/SEG_UNet3D_BraTS2023AdultGlioma\", filename=\"model.pth\")\n",
    "\n",
    "# Define the architecture matching the pretrained model\n",
    "model = UNet(\n",
    "    dimensions=3,\n",
    "    in_channels=4,  # Trained with 4 MRI modalities (e.g., T1, T1c, T2, FLAIR)\n",
    "    out_channels=3,  # Typically 3 tumor regions in BraTS\n",
    "    channels=(16, 32, 64, 128, 256),\n",
    "    strides=(2, 2, 2, 2),\n",
    "    num_res_units=2,\n",
    ")\n",
    "\n",
    "# Load pretrained weights\n",
    "model.load_state_dict(torch.load(model_ckpt_path, map_location=torch.device('cpu')))\n",
    "model.eval()\n",
    "\n",
    "# Inference\n",
    "with torch.no_grad():\n",
    "    output_nrrd = model(tensor_nrrd)\n",
    "    output_dicom = model(tensor_dicom)"
   ]
  },
  {
   "cell_type": "code",
   "execution_count": null,
   "id": "8e6b10ff",
   "metadata": {},
   "outputs": [],
   "source": [
    "# Convert to numpy for visualization\n",
    "output_nrrd_np = output_nrrd.detach().cpu().numpy()[0, 0]\n",
    "output_dicom_np = output_dicom.detach().cpu().numpy()[0, 0]\n",
    "input_nrrd_np = tensor_nrrd.detach().cpu().numpy()[0, 0]\n",
    "input_dicom_np = tensor_dicom.detach().cpu().numpy()[0, 0]\n",
    "\n",
    "# Visualization of mid slices\n",
    "slice_index_nrrd = input_nrrd_np.shape[0] // 2\n",
    "slice_index_dicom = input_dicom_np.shape[0] // 2\n",
    "\n",
    "plt.figure(figsize=(12, 4))\n",
    "plt.subplot(1, 3, 1)\n",
    "plt.title(\"NRRD Input (Mid Slice)\")\n",
    "plt.imshow(input_nrrd_np[slice_index_nrrd], cmap='gray')\n",
    "plt.axis('off')\n",
    "\n",
    "plt.subplot(1, 3, 2)\n",
    "plt.title(\"DICOM Input (Mid Slice)\")\n",
    "plt.imshow(input_dicom_np[slice_index_dicom], cmap='gray')\n",
    "plt.axis('off')\n",
    "\n",
    "plt.subplot(1, 3, 3)\n",
    "plt.title(\"DICOM Output (Mid Slice)\")\n",
    "plt.imshow(output_dicom_np[slice_index_dicom], cmap='gray')\n",
    "plt.axis('off')\n",
    "\n",
    "plt.tight_layout()\n",
    "plt.show()"
   ]
  }
 ],
 "metadata": {
  "kernelspec": {
   "display_name": "MONAI tutorial environment",
   "language": "python",
   "name": "monai-tutorial-env"
  },
  "language_info": {
   "codemirror_mode": {
    "name": "ipython",
    "version": 3
   },
   "file_extension": ".py",
   "mimetype": "text/x-python",
   "name": "python",
   "nbconvert_exporter": "python",
   "pygments_lexer": "ipython3",
   "version": "3.7.16"
  }
 },
 "nbformat": 4,
 "nbformat_minor": 5
}
