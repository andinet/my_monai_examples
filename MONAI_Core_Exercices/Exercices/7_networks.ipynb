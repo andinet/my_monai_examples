{
 "cells": [
  {
   "cell_type": "markdown",
   "id": "conscious-latitude",
   "metadata": {
    "slideshow": {
     "slide_type": "slide"
    }
   },
   "source": [
    "# Learning objectives\n",
    "\n",
    "In this Exercise, we will see : \n",
    "\n",
    "- How to instantiate different MONAI Network layers\n",
    "- How to create a custom MONAI Network"
   ]
  },
  {
   "cell_type": "markdown",
   "id": "comprehensive-witness",
   "metadata": {
    "slideshow": {
     "slide_type": "slide"
    }
   },
   "source": [
    "# Installing dependencies\n",
    "\n",
    "The following cell tries to import MONAI and will install its dependencies if needed in the NoteBook environment."
   ]
  },
  {
   "cell_type": "code",
   "execution_count": 1,
   "id": "pediatric-colleague",
   "metadata": {
    "slideshow": {
     "slide_type": "fragment"
    },
    "ExecuteTime": {
     "end_time": "2023-10-31T15:31:52.434450600Z",
     "start_time": "2023-10-31T15:31:39.799688Z"
    }
   },
   "outputs": [],
   "source": [
    "#@formatter:off\n",
    "!python -c \"import monai\" || pip install -qU \"monai[ignite, nibabel, torchvision, tqdm]==1.2.0\"\n",
    "#@formatter:on"
   ]
  },
  {
   "cell_type": "markdown",
   "id": "surgical-capture",
   "metadata": {
    "slideshow": {
     "slide_type": "slide"
    }
   },
   "source": [
    "# Verify your Configuration\n",
    "\n",
    "Execute the following cell to check MONAI's configuration using MONAI's `print_config()`."
   ]
  },
  {
   "cell_type": "code",
   "execution_count": 8,
   "id": "ranging-saint",
   "metadata": {
    "slideshow": {
     "slide_type": "fragment"
    },
    "ExecuteTime": {
     "end_time": "2023-10-31T13:49:01.325800900Z",
     "start_time": "2023-10-31T13:49:01.157798600Z"
    }
   },
   "outputs": [
    {
     "name": "stdout",
     "output_type": "stream",
     "text": [
      "MONAI version: 1.2.0\n",
      "Numpy version: 1.26.1\n",
      "Pytorch version: 2.1.0+cpu\n",
      "MONAI flags: HAS_EXT = False, USE_COMPILED = False, USE_META_DICT = False\n",
      "MONAI rev id: c33f1ba588ee00229a309000e888f9817b4f1934\n",
      "MONAI __file__: C:\\Work\\Projects\\2023_10_19_Formation_Medical_AI_EPITA\\venv\\lib\\site-packages\\monai\\__init__.py\n",
      "\n",
      "Optional dependencies:\n",
      "Pytorch Ignite version: 0.4.11\n",
      "ITK version: 5.3.0\n",
      "Nibabel version: 5.1.0\n",
      "scikit-image version: 0.22.0\n",
      "Pillow version: 10.1.0\n",
      "Tensorboard version: 2.14.1\n",
      "gdown version: 4.7.1\n",
      "TorchVision version: 0.16.0+cpu\n",
      "tqdm version: 4.66.1\n",
      "lmdb version: 1.4.1\n",
      "psutil version: 5.9.6\n",
      "pandas version: 2.1.1\n",
      "einops version: 0.7.0\n",
      "transformers version: 4.21.3\n",
      "mlflow version: 2.7.1\n",
      "pynrrd version: 1.0.0\n",
      "\n",
      "For details about installing the optional dependencies, please visit:\n",
      "    https://docs.monai.io/en/latest/installation.html#installing-the-recommended-dependencies\n"
     ]
    }
   ],
   "source": [
    "from monai.config import print_config\n",
    "\n",
    "print_config()"
   ]
  },
  {
   "cell_type": "markdown",
   "id": "medium-client",
   "metadata": {
    "slideshow": {
     "slide_type": "slide"
    }
   },
   "source": [
    "# Convolutions\n",
    "\n",
    "1. Print 1d, 2d, and 3d convolution layers types\n",
    "2. Print 1d, 2d, and 3d convolution transpose layers types"
   ]
  },
  {
   "cell_type": "code",
   "execution_count": 1,
   "id": "geographic-learning",
   "metadata": {
    "slideshow": {
     "slide_type": "fragment"
    },
    "ExecuteTime": {
     "end_time": "2023-11-01T19:42:36.807316Z",
     "start_time": "2023-11-01T19:42:20.582994300Z"
    }
   },
   "outputs": [
    {
     "name": "stdout",
     "output_type": "stream",
     "text": [
      "<class 'torch.nn.modules.conv.Conv1d'>\n",
      "<class 'torch.nn.modules.conv.Conv2d'>\n",
      "<class 'torch.nn.modules.conv.Conv3d'>\n",
      "<class 'torch.nn.modules.conv.ConvTranspose1d'>\n",
      "<class 'torch.nn.modules.conv.ConvTranspose2d'>\n",
      "<class 'torch.nn.modules.conv.ConvTranspose3d'>\n"
     ]
    }
   ],
   "source": [
    "from monai.networks.layers import Conv\n",
    "\n",
    "fixMe"
   ]
  },
  {
   "cell_type": "markdown",
   "id": "maritime-weekend",
   "metadata": {
    "slideshow": {
     "slide_type": "fragment"
    }
   },
   "source": [
    "# Convolution parameters\n",
    "\n",
    "1. Create 2d and 3d convolution layers with one input channel, 4 output channels and a kernel size of 3"
   ]
  },
  {
   "cell_type": "code",
   "execution_count": null,
   "id": "hydraulic-classification",
   "metadata": {
    "slideshow": {
     "slide_type": "fragment"
    }
   },
   "outputs": [],
   "source": [
    "print(Conv[Conv.CONV, 2](fixMe))\n",
    "print(Conv[Conv.CONV, 3](fixMe))"
   ]
  },
  {
   "cell_type": "markdown",
   "id": "expanded-server",
   "metadata": {
    "slideshow": {
     "slide_type": "slide"
    }
   },
   "source": [
    "# Activation\n",
    "\n",
    "2. Instantiate and print a PRELU activation layer with one parameter and init value of 0.1"
   ]
  },
  {
   "cell_type": "code",
   "execution_count": 2,
   "id": "flying-estonia",
   "metadata": {
    "slideshow": {
     "slide_type": "fragment"
    },
    "ExecuteTime": {
     "end_time": "2023-11-01T19:45:02.985391700Z",
     "start_time": "2023-11-01T19:45:02.963289300Z"
    }
   },
   "outputs": [
    {
     "name": "stdout",
     "output_type": "stream",
     "text": [
      "<class 'torch.nn.modules.activation.PReLU'>\n",
      "PReLU(num_parameters=1)\n"
     ]
    }
   ],
   "source": [
    "from monai.networks.layers import Act\n",
    "\n",
    "print(fixMe)"
   ]
  },
  {
   "cell_type": "markdown",
   "source": [
    "# Activation from parameters\n",
    "\n",
    "1. Use the `split_args` method to separate the args from `(\"prelu\", {\"num_parameters\": 1, \"init\": 0.1})`\n",
    "2. Instantiate and print the activation layer created from the split_args output"
   ],
   "metadata": {
    "collapsed": false
   },
   "id": "6619056b969aadde"
  },
  {
   "cell_type": "code",
   "execution_count": 5,
   "outputs": [
    {
     "name": "stdout",
     "output_type": "stream",
     "text": [
      "PReLU(num_parameters=1)\n"
     ]
    }
   ],
   "source": [
    "from monai.networks.layers import split_args\n",
    "act_name, act_args = split_args((\"prelu\", {\"num_parameters\": 1, \"init\": 0.1}))\n",
    "\n",
    "print(fixMe)"
   ],
   "metadata": {
    "collapsed": false,
    "ExecuteTime": {
     "end_time": "2023-11-01T19:50:46.679014400Z",
     "start_time": "2023-11-01T19:50:46.663024800Z"
    }
   },
   "id": "1e35d36c141d3e0e"
  },
  {
   "cell_type": "markdown",
   "id": "differential-humanitarian",
   "metadata": {
    "slideshow": {
     "slide_type": "slide"
    }
   },
   "source": [
    "# Custom Network\n",
    "\n",
    "1. Create a new network deriving from `torch.nn.Module`\n",
    "2. Add the following parameters to the Module  `dims=3, in_channels=1, out_channels=8, kernel_size=3, pool_kernel=2, act=\"relu\"`\n",
    "3. Create a network with the following steps : \n",
    "    - Convolution with the input dims, in_channels, out_channels and kernel_size parameters\n",
    "    - Activation given the chosen activation method\n",
    "    - MAX Pooling"
   ]
  },
  {
   "cell_type": "code",
   "execution_count": 7,
   "id": "large-paper",
   "metadata": {
    "slideshow": {
     "slide_type": "fragment"
    },
    "ExecuteTime": {
     "end_time": "2023-11-01T19:55:44.838768Z",
     "start_time": "2023-11-01T19:55:44.824594300Z"
    }
   },
   "outputs": [],
   "source": [
    "import torch\n",
    "from monai.networks.layers import Pool, split_args\n",
    "\n",
    "class MyNetwork(torch.nn.Module):\n",
    "    fixMe"
   ]
  },
  {
   "cell_type": "markdown",
   "id": "narrative-massachusetts",
   "metadata": {
    "slideshow": {
     "slide_type": "slide"
    }
   },
   "source": [
    "# Custom Network instantiation\n",
    "\n",
    "Instantiate the previous network with the following settings :\n",
    "1. Default Model\n",
    "2. ELU 2D : `dims=2, in_channels=3, act=(\"elu\", {\"inplace\": True})`\n",
    "3. Sigmoid 3D with anisotropic kernels : `dims=3, in_channels=4, kernel_size=(3, 3, 1), act=\"sigmoid\"`\n"
   ]
  },
  {
   "cell_type": "code",
   "execution_count": 8,
   "id": "micro-wedding",
   "metadata": {
    "slideshow": {
     "slide_type": "fragment"
    },
    "ExecuteTime": {
     "end_time": "2023-11-01T19:55:46.568410300Z",
     "start_time": "2023-11-01T19:55:46.506221Z"
    }
   },
   "outputs": [
    {
     "name": "stdout",
     "output_type": "stream",
     "text": [
      "MyNetwork(\n",
      "  (conv): Conv3d(1, 8, kernel_size=(3, 3, 3), stride=(1, 1, 1))\n",
      "  (act): ReLU()\n",
      "  (pool): MaxPool3d(kernel_size=2, stride=2, padding=0, dilation=1, ceil_mode=False)\n",
      ")\n",
      "torch.Size([3, 8, 9, 9, 14])\n",
      "MyNetwork(\n",
      "  (conv): Conv2d(3, 8, kernel_size=(3, 3), stride=(1, 1))\n",
      "  (act): ELU(alpha=1.0, inplace=True)\n",
      "  (pool): MaxPool2d(kernel_size=2, stride=2, padding=0, dilation=1, ceil_mode=False)\n",
      ")\n",
      "torch.Size([3, 8, 11, 11])\n",
      "MyNetwork(\n",
      "  (conv): Conv3d(4, 8, kernel_size=(3, 3, 1), stride=(1, 1, 1))\n",
      "  (act): Sigmoid()\n",
      "  (pool): MaxPool3d(kernel_size=2, stride=2, padding=0, dilation=1, ceil_mode=False)\n",
      ")\n",
      "torch.Size([3, 8, 14, 14, 2])\n"
     ]
    }
   ],
   "source": [
    "# default network instance\n",
    "default_net = fixMe\n",
    "print(default_net)\n",
    "print(default_net(torch.ones(3, 1, 20, 20, 30)).shape)\n",
    "\n",
    "# 2D network instance\n",
    "elu_net = fixMe\n",
    "print(elu_net)\n",
    "print(elu_net(torch.ones(3, 3, 24, 24)).shape)\n",
    "\n",
    "# 3D network instance with anisotropic kernels\n",
    "sigmoid_net = fixMe\n",
    "print(sigmoid_net)\n",
    "print(sigmoid_net(torch.ones(3, 4, 30, 30, 5)).shape)"
   ]
  },
  {
   "cell_type": "markdown",
   "id": "million-adobe",
   "metadata": {
    "slideshow": {
     "slide_type": "slide"
    }
   },
   "source": [
    "# Builtin Networks\n",
    "\n",
    "1. Instantiate a UNet network with the following properties\n",
    "    - 2D Network\n",
    "    - 1 input channel\n",
    "    - 1 out channel\n",
    "    - [8, 16, 32] intermediate layers channel counts\n",
    "    - [2, 2] strides for mid layers  \n",
    "2. Print the UNet configuration"
   ]
  },
  {
   "cell_type": "code",
   "execution_count": 10,
   "id": "former-morocco",
   "metadata": {
    "slideshow": {
     "slide_type": "fragment"
    },
    "ExecuteTime": {
     "end_time": "2023-11-01T19:59:14.990105100Z",
     "start_time": "2023-11-01T19:59:14.933193100Z"
    }
   },
   "outputs": [
    {
     "name": "stdout",
     "output_type": "stream",
     "text": [
      "UNet(\n",
      "  (model): Sequential(\n",
      "    (0): Convolution(\n",
      "      (conv): Conv2d(1, 8, kernel_size=(3, 3), stride=(2, 2), padding=(1, 1))\n",
      "      (adn): ADN(\n",
      "        (N): InstanceNorm2d(8, eps=1e-05, momentum=0.1, affine=False, track_running_stats=False)\n",
      "        (D): Dropout(p=0.0, inplace=False)\n",
      "        (A): PReLU(num_parameters=1)\n",
      "      )\n",
      "    )\n",
      "    (1): SkipConnection(\n",
      "      (submodule): Sequential(\n",
      "        (0): Convolution(\n",
      "          (conv): Conv2d(8, 16, kernel_size=(3, 3), stride=(2, 2), padding=(1, 1))\n",
      "          (adn): ADN(\n",
      "            (N): InstanceNorm2d(16, eps=1e-05, momentum=0.1, affine=False, track_running_stats=False)\n",
      "            (D): Dropout(p=0.0, inplace=False)\n",
      "            (A): PReLU(num_parameters=1)\n",
      "          )\n",
      "        )\n",
      "        (1): SkipConnection(\n",
      "          (submodule): Convolution(\n",
      "            (conv): Conv2d(16, 32, kernel_size=(3, 3), stride=(1, 1), padding=(1, 1))\n",
      "            (adn): ADN(\n",
      "              (N): InstanceNorm2d(32, eps=1e-05, momentum=0.1, affine=False, track_running_stats=False)\n",
      "              (D): Dropout(p=0.0, inplace=False)\n",
      "              (A): PReLU(num_parameters=1)\n",
      "            )\n",
      "          )\n",
      "        )\n",
      "        (2): Convolution(\n",
      "          (conv): ConvTranspose2d(48, 8, kernel_size=(3, 3), stride=(2, 2), padding=(1, 1), output_padding=(1, 1))\n",
      "          (adn): ADN(\n",
      "            (N): InstanceNorm2d(8, eps=1e-05, momentum=0.1, affine=False, track_running_stats=False)\n",
      "            (D): Dropout(p=0.0, inplace=False)\n",
      "            (A): PReLU(num_parameters=1)\n",
      "          )\n",
      "        )\n",
      "      )\n",
      "    )\n",
      "    (2): Convolution(\n",
      "      (conv): ConvTranspose2d(16, 1, kernel_size=(3, 3), stride=(2, 2), padding=(1, 1), output_padding=(1, 1))\n",
      "    )\n",
      "  )\n",
      ")\n"
     ]
    }
   ],
   "source": [
    "from monai.networks.nets import UNet\n",
    "\n",
    "net = fixMe\n",
    "\n",
    "print(net)"
   ]
  }
 ],
 "metadata": {
  "celltoolbar": "Slideshow",
  "kernelspec": {
   "display_name": "Python 3",
   "language": "python",
   "name": "python3"
  },
  "language_info": {
   "codemirror_mode": {
    "name": "ipython",
    "version": 3
   },
   "file_extension": ".py",
   "mimetype": "text/x-python",
   "name": "python",
   "nbconvert_exporter": "python",
   "pygments_lexer": "ipython3",
   "version": "3.9.16"
  },
  "rise": {
   "header": "<img style='width: 100%; height: 100%;' src='https://raw.githubusercontent.com/Project-MONAI/project-monai.github.io/master/assets/logo/MONAI-logo_color.svg'>",
   "scroll": true,
   "theme": "white"
  }
 },
 "nbformat": 4,
 "nbformat_minor": 5
}
