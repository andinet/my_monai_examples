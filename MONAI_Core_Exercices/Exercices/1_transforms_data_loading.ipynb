{
 "cells": [
  {
   "cell_type": "markdown",
   "id": "conscious-latitude",
   "metadata": {
    "slideshow": {
     "slide_type": "slide"
    }
   },
   "source": [
    "# Learning objectives\n",
    "\n",
    "In this Exercise, we will see : \n",
    "\n",
    "- How to generate test data\n",
    "- How to save / load data using MONAI using Array and Dictionary format"
   ]
  },
  {
   "cell_type": "markdown",
   "id": "comprehensive-witness",
   "metadata": {
    "slideshow": {
     "slide_type": "slide"
    }
   },
   "source": [
    "# Installing dependencies\n",
    "\n",
    "The following cell tries to import MONAI and will install its dependencies if needed in the NoteBook environment."
   ]
  },
  {
   "cell_type": "code",
   "execution_count": 31,
   "id": "pediatric-colleague",
   "metadata": {
    "slideshow": {
     "slide_type": "fragment"
    },
    "ExecuteTime": {
     "end_time": "2023-10-31T15:01:49.675955Z",
     "start_time": "2023-10-31T15:01:43.349989900Z"
    }
   },
   "outputs": [],
   "source": [
    "#@formatter:off\n",
    "!python -c \"import monai\" || pip install -qU \"monai[ignite, nibabel, torchvision, tqdm]==1.2.0\"\n",
    "#@formatter:on"
   ]
  },
  {
   "cell_type": "markdown",
   "id": "bibliographic-feedback",
   "metadata": {
    "slideshow": {
     "slide_type": "fragment"
    }
   },
   "source": [
    "# Checking the GPU (NVIDIA)\n",
    "\n",
    "Execute the following cell to check the available GPU on the current environment"
   ]
  },
  {
   "cell_type": "code",
   "execution_count": 3,
   "id": "danish-garage",
   "metadata": {
    "slideshow": {
     "slide_type": "fragment"
    },
    "ExecuteTime": {
     "end_time": "2023-10-31T13:45:56.777904400Z",
     "start_time": "2023-10-31T13:45:56.656407200Z"
    }
   },
   "outputs": [
    {
     "name": "stdout",
     "output_type": "stream",
     "text": [
      "Tue Oct 31 14:45:56 2023       \n",
      "+---------------------------------------------------------------------------------------+\n",
      "| NVIDIA-SMI 532.09                 Driver Version: 532.09       CUDA Version: 12.1     |\n",
      "|-----------------------------------------+----------------------+----------------------+\n",
      "| GPU  Name                      TCC/WDDM | Bus-Id        Disp.A | Volatile Uncorr. ECC |\n",
      "| Fan  Temp  Perf            Pwr:Usage/Cap|         Memory-Usage | GPU-Util  Compute M. |\n",
      "|                                         |                      |               MIG M. |\n",
      "|=========================================+======================+======================|\n",
      "|   0  NVIDIA GeForce RTX 3070 L...  WDDM | 00000000:01:00.0  On |                  N/A |\n",
      "| N/A   57C    P8               18W /  N/A|    561MiB /  8192MiB |      9%      Default |\n",
      "|                                         |                      |                  N/A |\n",
      "+-----------------------------------------+----------------------+----------------------+\n",
      "                                                                                         \n",
      "+---------------------------------------------------------------------------------------+\n",
      "| Processes:                                                                            |\n",
      "|  GPU   GI   CI        PID   Type   Process name                            GPU Memory |\n",
      "|        ID   ID                                                             Usage      |\n",
      "|=======================================================================================|\n",
      "|    0   N/A  N/A      3984    C+G   ....5.51.0_x64__htrsf667h5kn2\\AWCC.exe    N/A      |\n",
      "|    0   N/A  N/A      9788    C+G   ...ell\\Dell Peripheral Manager\\DPM.exe    N/A      |\n",
      "|    0   N/A  N/A     12168    C+G   ...on\\118.0.2088.76\\msedgewebview2.exe    N/A      |\n",
      "|    0   N/A  N/A     12328    C+G   ...t.LockApp_cw5n1h2txyewy\\LockApp.exe    N/A      |\n",
      "|    0   N/A  N/A     12392    C+G   ...werToys\\PowerToys.PowerLauncher.exe    N/A      |\n",
      "|    0   N/A  N/A     12444    C+G   ...nt.CBS_cw5n1h2txyewy\\SearchHost.exe    N/A      |\n",
      "|    0   N/A  N/A     12468    C+G   ...2txyewy\\StartMenuExperienceHost.exe    N/A      |\n",
      "|    0   N/A  N/A     13288    C+G   ...\\PowerToys\\PowerToys.FancyZones.exe    N/A      |\n",
      "|    0   N/A  N/A     14704    C+G   ...ekyb3d8bbwe\\PhoneExperienceHost.exe    N/A      |\n",
      "|    0   N/A  N/A     16244    C+G   ...CBS_cw5n1h2txyewy\\TextInputHost.exe    N/A      |\n",
      "|    0   N/A  N/A     19324    C+G   ...ld SSL VPN Client\\sslvpn_client.exe    N/A      |\n",
      "|    0   N/A  N/A     20512    C+G   C:\\Windows\\explorer.exe                   N/A      |\n",
      "|    0   N/A  N/A     25024    C+G   ...Slicer 5.4.0\\bin\\SlicerApp-real.exe    N/A      |\n",
      "+---------------------------------------------------------------------------------------+\n"
     ]
    }
   ],
   "source": [
    "!nvidia-smi"
   ]
  },
  {
   "cell_type": "markdown",
   "id": "surgical-capture",
   "metadata": {
    "slideshow": {
     "slide_type": "slide"
    }
   },
   "source": [
    "# Verify your Configuration\n",
    "\n",
    "Execute the following cell to check MONAI's configuration using MONAI's `print_config()`."
   ]
  },
  {
   "cell_type": "code",
   "execution_count": 8,
   "id": "ranging-saint",
   "metadata": {
    "slideshow": {
     "slide_type": "fragment"
    },
    "ExecuteTime": {
     "end_time": "2023-10-31T13:49:01.325800900Z",
     "start_time": "2023-10-31T13:49:01.157798600Z"
    }
   },
   "outputs": [
    {
     "name": "stdout",
     "output_type": "stream",
     "text": [
      "MONAI version: 1.2.0\n",
      "Numpy version: 1.26.1\n",
      "Pytorch version: 2.1.0+cpu\n",
      "MONAI flags: HAS_EXT = False, USE_COMPILED = False, USE_META_DICT = False\n",
      "MONAI rev id: c33f1ba588ee00229a309000e888f9817b4f1934\n",
      "MONAI __file__: C:\\Work\\Projects\\2023_10_19_Formation_Medical_AI_EPITA\\venv\\lib\\site-packages\\monai\\__init__.py\n",
      "\n",
      "Optional dependencies:\n",
      "Pytorch Ignite version: 0.4.11\n",
      "ITK version: 5.3.0\n",
      "Nibabel version: 5.1.0\n",
      "scikit-image version: 0.22.0\n",
      "Pillow version: 10.1.0\n",
      "Tensorboard version: 2.14.1\n",
      "gdown version: 4.7.1\n",
      "TorchVision version: 0.16.0+cpu\n",
      "tqdm version: 4.66.1\n",
      "lmdb version: 1.4.1\n",
      "psutil version: 5.9.6\n",
      "pandas version: 2.1.1\n",
      "einops version: 0.7.0\n",
      "transformers version: 4.21.3\n",
      "mlflow version: 2.7.1\n",
      "pynrrd version: 1.0.0\n",
      "\n",
      "For details about installing the optional dependencies, please visit:\n",
      "    https://docs.monai.io/en/latest/installation.html#installing-the-recommended-dependencies\n"
     ]
    }
   ],
   "source": [
    "from monai.config import print_config\n",
    "\n",
    "print_config()"
   ]
  },
  {
   "cell_type": "markdown",
   "id": "ahead-bicycle",
   "metadata": {
    "slideshow": {
     "slide_type": "slide"
    }
   },
   "source": [
    "# Creating Toy Data and Temp Directory for Examples\n",
    "\n",
    "We'll create a temporary directory and populate it with a few example Nifti file-format images containing a random assortment of spheres.  We're also creating a matching segmentation pair that will be used later in the notebook."
   ]
  },
  {
   "cell_type": "code",
   "execution_count": 9,
   "id": "standing-macedonia",
   "metadata": {
    "slideshow": {
     "slide_type": "fragment"
    },
    "ExecuteTime": {
     "end_time": "2023-10-31T13:50:51.860118400Z",
     "start_time": "2023-10-31T13:50:50.720184600Z"
    }
   },
   "outputs": [
    {
     "name": "stdout",
     "output_type": "stream",
     "text": [
      "C:\\Users\\Thibault\\AppData\\Local\\Temp\\tmpa8y1rtip\n"
     ]
    }
   ],
   "source": [
    "from monai.data import create_test_image_3d\n",
    "import tempfile\n",
    "import nibabel as nib\n",
    "import numpy as np\n",
    "\n",
    "fn_keys = (\"img\", \"seg\")  # filename keys for image and seg files\n",
    "\n",
    "root_dir = tempfile.mkdtemp()\n",
    "print(\"Output temporary directory : \", root_dir)\n",
    "\n",
    "filenames = []\n",
    "\n",
    "for i in range(5):\n",
    "    im, seg = create_test_image_3d(128, 128, 128, num_objs=16, rad_max=25)\n",
    "\n",
    "    im_filename = f\"{root_dir}/im{i}.nii.gz\"\n",
    "    seg_filename = f\"{root_dir}/seg{i}.nii.gz\"\n",
    "    filenames.append({\"img\": im_filename, \"seg\": seg_filename})\n",
    "\n",
    "    n = nib.Nifti1Image(im, np.eye(4))\n",
    "    nib.save(n, im_filename)\n",
    "\n",
    "    n = nib.Nifti1Image(seg, np.eye(4))\n",
    "    nib.save(n, seg_filename)"
   ]
  },
  {
   "cell_type": "markdown",
   "id": "celtic-theater",
   "metadata": {
    "slideshow": {
     "slide_type": "slide"
    }
   },
   "source": [
    "# Array Transforms\n",
    "\n",
    "Exercise : \n",
    "\n",
    "1. Create an array transform which loads the created Nifti images without its meta data\n",
    "2. Call the transform on the first image\n",
    "3. Print the image shape and devices"
   ]
  },
  {
   "cell_type": "code",
   "execution_count": null,
   "id": "purple-litigation",
   "metadata": {
    "slideshow": {
     "slide_type": "fragment"
    }
   },
   "outputs": [],
   "source": [
    "from monai.transforms import Compose, LoadImage, EnsureChannelFirst\n",
    "\n",
    "trans = Compose([fixMe])\n",
    "img = trans(fixMe)\n",
    "print(fixMe)"
   ]
  },
  {
   "cell_type": "markdown",
   "id": "comparative-chain",
   "metadata": {
    "slideshow": {
     "slide_type": "slide"
    }
   },
   "source": [
    "# Dictionary Transforms\n",
    "\n",
    "Exercise : \n",
    "\n",
    "1. Create a dictionary transform which loads the created Nifti images and labels with meta data\n",
    "2. Call the transforms on the first image / label\n",
    "3. Print the image shapes and devices\n",
    "4. Print the segmentation shapes and devices"
   ]
  },
  {
   "cell_type": "code",
   "execution_count": 14,
   "id": "republican-kenya",
   "metadata": {
    "slideshow": {
     "slide_type": "fragment"
    },
    "ExecuteTime": {
     "end_time": "2023-10-31T14:01:24.661033100Z",
     "start_time": "2023-10-31T14:01:24.584297400Z"
    }
   },
   "outputs": [
    {
     "name": "stdout",
     "output_type": "stream",
     "text": [
      "['img', 'seg', 'img_meta_dict', 'seg_meta_dict']\n",
      "torch.Size([1, 128, 128, 128]) -1\n",
      "torch.Size([1, 128, 128, 128]) -1\n"
     ]
    }
   ],
   "source": [
    "from monai.transforms import Compose, LoadImaged, EnsureChannelFirstd\n",
    "\n",
    "trans = Compose([fixMe])\n",
    "data = trans(fixMe)\n",
    "print(list(data.keys()))\n",
    "print(fixMe)\n",
    "print(fixMe)"
   ]
  },
  {
   "cell_type": "markdown",
   "id": "waiting-palestinian",
   "metadata": {
    "slideshow": {
     "slide_type": "slide"
    }
   },
   "source": [
    "# Loading other data\n",
    "\n",
    "Exercise : \n",
    "\n",
    "1. Create a transform to load the ./Data/brain.png and ./Data/brain_segmentation.nii files from the Data dir\n",
    "2. Squeeze the last dimension of the segmentation file only to make the segmentation 2D \n",
    "3. Print the image and segmentation shapes and devices"
   ]
  },
  {
   "cell_type": "code",
   "execution_count": 17,
   "outputs": [
    {
     "name": "stdout",
     "output_type": "stream",
     "text": [
      "['img', 'seg', 'img_meta_dict', 'seg_meta_dict']\n",
      "torch.Size([1, 181, 217]) -1\n",
      "torch.Size([1, 181, 217]) -1\n"
     ]
    }
   ],
   "source": [
    "from monai.transforms import SqueezeDimd\n",
    "\n",
    "trans = Compose([fixMe])\n",
    "\n",
    "data = trans(fixMe)\n",
    "print(list(data.keys()))\n",
    "print(fixMe)\n",
    "print(fixMe)"
   ],
   "metadata": {
    "collapsed": false,
    "ExecuteTime": {
     "end_time": "2023-10-31T14:06:18.345482600Z",
     "start_time": "2023-10-31T14:06:18.290643300Z"
    }
   },
   "id": "5052c2d98eb3fa07"
  },
  {
   "cell_type": "markdown",
   "id": "intellectual-wrist",
   "metadata": {
    "slideshow": {
     "slide_type": "slide"
    }
   },
   "source": [
    "# Saving data\n",
    "\n",
    "1. Create a dictionary transform which loads the created Nifti images and labels with meta data\n",
    "2. Add a SaveImaged step to save the images and segmentations to the outputs folder as NRRD files\n",
    "3. Print the content of the output folder"
   ]
  },
  {
   "cell_type": "code",
   "execution_count": 27,
   "outputs": [
    {
     "name": "stdout",
     "output_type": "stream",
     "text": [
      "Supported Writers : \n",
      "\n",
      "png : (<class 'monai.data.image_writer.PILWriter'>,)\n",
      "jpg : (<class 'monai.data.image_writer.PILWriter'>,)\n",
      "jpeg : (<class 'monai.data.image_writer.PILWriter'>,)\n",
      "bmp : (<class 'monai.data.image_writer.PILWriter'>,)\n",
      "tiff : (<class 'monai.data.image_writer.PILWriter'>,)\n",
      "tif : (<class 'monai.data.image_writer.PILWriter'>,)\n",
      "nii.gz : (<class 'monai.data.image_writer.NibabelWriter'>, <class 'monai.data.image_writer.ITKWriter'>)\n",
      "nii : (<class 'monai.data.image_writer.NibabelWriter'>, <class 'monai.data.image_writer.ITKWriter'>)\n",
      "nrrd : (<class 'monai.data.image_writer.ITKWriter'>, <class 'monai.data.image_writer.NibabelWriter'>)\n",
      "* : (<class 'monai.data.image_writer.ITKWriter'>, <class 'monai.data.image_writer.NibabelWriter'>, <class 'monai.data.image_writer.ITKWriter'>)\n"
     ]
    }
   ],
   "source": [
    "from monai.data.image_writer import SUPPORTED_WRITERS\n",
    "\n",
    "print(\"Supported Writers : \\n\")\n",
    "print(\"\\n\".join([f\"{k} : {v}\" for k, v in SUPPORTED_WRITERS.items()]))"
   ],
   "metadata": {
    "collapsed": false,
    "ExecuteTime": {
     "end_time": "2023-10-31T14:17:53.823483500Z",
     "start_time": "2023-10-31T14:17:53.797113900Z"
    }
   },
   "id": "89283bc43e9f8bea"
  },
  {
   "cell_type": "code",
   "execution_count": 30,
   "id": "selected-conservative",
   "metadata": {
    "slideshow": {
     "slide_type": "fragment"
    },
    "ExecuteTime": {
     "end_time": "2023-10-31T14:19:33.267879200Z",
     "start_time": "2023-10-31T14:19:27.277601500Z"
    }
   },
   "outputs": [
    {
     "name": "stdout",
     "output_type": "stream",
     "text": [
      "2023-10-31 15:19:27,340 INFO image_writer.py:197 - writing: Outputs\\im0_trans.nrrd\n",
      "2023-10-31 15:19:33,220 INFO image_writer.py:197 - writing: Outputs\\seg0_trans.nrrd\n",
      "[WindowsPath('Outputs/im0_trans.nii.gz'), WindowsPath('Outputs/im0_trans.nrrd'), WindowsPath('Outputs/seg0_trans.nii.gz'), WindowsPath('Outputs/seg0_trans.nrrd')]\n"
     ]
    }
   ],
   "source": [
    "from monai.transforms import SaveImaged\n",
    "from pathlib import Path\n",
    "\n",
    "trans = Compose([fixMe])\n",
    "trans(filenames[0])\n",
    "print(fixMe)"
   ]
  }
 ],
 "metadata": {
  "celltoolbar": "Slideshow",
  "kernelspec": {
   "display_name": "Python 3",
   "language": "python",
   "name": "python3"
  },
  "language_info": {
   "codemirror_mode": {
    "name": "ipython",
    "version": 3
   },
   "file_extension": ".py",
   "mimetype": "text/x-python",
   "name": "python",
   "nbconvert_exporter": "python",
   "pygments_lexer": "ipython3",
   "version": "3.9.16"
  },
  "rise": {
   "header": "<img style='width: 100%; height: 100%;' src='https://raw.githubusercontent.com/Project-MONAI/project-monai.github.io/master/assets/logo/MONAI-logo_color.svg'>",
   "scroll": true,
   "theme": "white"
  }
 },
 "nbformat": 4,
 "nbformat_minor": 5
}
